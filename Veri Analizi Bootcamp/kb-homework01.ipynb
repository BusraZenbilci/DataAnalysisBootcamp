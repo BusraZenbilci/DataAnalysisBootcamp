{
 "cells": [
  {
   "cell_type": "markdown",
   "id": "2f4b1bbb-0f10-4a36-a111-284d33aa29ed",
   "metadata": {},
   "source": [
    "## Kız Basına Bootcamp - Homework 01"
   ]
  },
  {
   "cell_type": "markdown",
   "id": "e44629d2-22e4-4d6e-a14b-7955821105ff",
   "metadata": {},
   "source": [
    "### 1. Girilen sayının pozitif, negatif veya sıfır olduğunu yazan koşul:"
   ]
  },
  {
   "cell_type": "code",
   "execution_count": 29,
   "id": "131648c4-635a-42cf-976b-38d52da70bf8",
   "metadata": {},
   "outputs": [
    {
     "name": "stdin",
     "output_type": "stream",
     "text": [
      "Bir sayi giriniz:  -23\n"
     ]
    },
    {
     "name": "stdout",
     "output_type": "stream",
     "text": [
      "negative\n"
     ]
    }
   ],
   "source": [
    "\n",
    "number = int(input(\"Bir sayi giriniz: \"))\n",
    "if number > 0:\n",
    "    print(\"positive\")\n",
    "elif number < 0:\n",
    "    print(\"negative\")\n",
    "else:\n",
    "    print(\"zero\")\n"
   ]
  },
  {
   "cell_type": "markdown",
   "id": "952295fd-09fd-4186-b338-b39476549afe",
   "metadata": {},
   "source": [
    "### 2. Girilen sayının tek mi çift mi olduğunu yazan koşul"
   ]
  },
  {
   "cell_type": "code",
   "execution_count": 32,
   "id": "7257fea3-86c5-424f-b33c-27edc657a7c4",
   "metadata": {},
   "outputs": [
    {
     "name": "stdin",
     "output_type": "stream",
     "text": [
      "Bir sayi giriniz:  9\n"
     ]
    },
    {
     "name": "stdout",
     "output_type": "stream",
     "text": [
      "Bu bir tek sayıdır.\n"
     ]
    }
   ],
   "source": [
    "number2 = int(input(\"Bir sayi giriniz: \"))\n",
    "if number2 % 2 == 0:\n",
    "   print(\"Bu bir çift sayıdır.\")\n",
    "else:\n",
    "   print(\"Bu bir tek sayıdır.\")"
   ]
  },
  {
   "cell_type": "markdown",
   "id": "7b07c532-af74-4034-a26c-458b2328a79b",
   "metadata": {},
   "source": [
    "### 3. Girilen nota göre harf aralığını yazan koşul"
   ]
  },
  {
   "cell_type": "code",
   "execution_count": 33,
   "id": "ede8d8d4-7042-42ca-963b-7c84bbdbe66d",
   "metadata": {},
   "outputs": [
    {
     "name": "stdin",
     "output_type": "stream",
     "text": [
      "Notunuzu girin:  72\n"
     ]
    },
    {
     "name": "stdout",
     "output_type": "stream",
     "text": [
      "CB\n"
     ]
    }
   ],
   "source": [
    "puan = int(input(\"Notunuzu girin: \"))\n",
    "\n",
    "if 92 <= puan <= 100:\n",
    "    print(\"AA\")\n",
    "elif 86 <= puan < 92:\n",
    "    print(\"BA\")\n",
    "elif 77 <= puan < 86:\n",
    "    print(\"BB\")\n",
    "elif 68 <= puan < 77:\n",
    "    print(\"CB\")\n",
    "elif 60 <= puan < 68:\n",
    "    print(\"CC\")\n",
    "elif 55 <= puan < 60:\n",
    "    print(\"DC\")\n",
    "else:\n",
    "    print(\"Başarısız\")\n"
   ]
  },
  {
   "cell_type": "markdown",
   "id": "5dc22f85-a0fd-4eb5-870c-acc29b36b2d8",
   "metadata": {},
   "source": [
    "### 4. Girilen ismin karakter sayısı 5'ten büyükse uyarı ver"
   ]
  },
  {
   "cell_type": "code",
   "execution_count": 34,
   "id": "e630aba0-fb5d-4226-bc83-a6dada985c77",
   "metadata": {},
   "outputs": [
    {
     "name": "stdin",
     "output_type": "stream",
     "text": [
      "İsminizi girin:  Busra\n"
     ]
    },
    {
     "name": "stdout",
     "output_type": "stream",
     "text": [
      "İsminiz: Busra\n"
     ]
    }
   ],
   "source": [
    "isim = input(\"İsminizi girin: \")\n",
    "\n",
    "if len(isim) > 5:\n",
    "    print(\"Uzun bir isminiz var.\")\n",
    "else:\n",
    "    print(\"İsminiz:\", isim)\n"
   ]
  },
  {
   "cell_type": "markdown",
   "id": "27753da2-ab66-4579-9966-495cbfd681c3",
   "metadata": {},
   "source": [
    "### 5. Girilen sayının asal olup olmadığını bulan kod dizisi (for ve while ile)"
   ]
  },
  {
   "cell_type": "markdown",
   "id": "30974848-390a-4ef0-ad49-2810b083c469",
   "metadata": {},
   "source": [
    "#### for ile"
   ]
  },
  {
   "cell_type": "code",
   "execution_count": 5,
   "id": "82327083-1c15-4e3d-adaa-3a4836762073",
   "metadata": {},
   "outputs": [
    {
     "name": "stdin",
     "output_type": "stream",
     "text": [
      "Bir sayi giriniz:  17\n"
     ]
    },
    {
     "name": "stdout",
     "output_type": "stream",
     "text": [
      "Girdiğiniz sayı asaldır.\n"
     ]
    }
   ],
   "source": [
    "sayi = int(input(\"Bir sayi giriniz: \"))\n",
    "\n",
    "asal_sayi = True\n",
    "if sayi < 2:\n",
    "    asal_sayi = False\n",
    "else:\n",
    "    for i in range (2, sayi):\n",
    "        if sayi%i == 0:\n",
    "            asal_sayi = False\n",
    "            break\n",
    "            \n",
    "if asal_sayi:\n",
    "    print(\"Girdiğiniz sayı asaldır.\")\n",
    "else:\n",
    "    print(\"Girdiğiniz sayı asal değildir\")\n",
    "\n"
   ]
  },
  {
   "cell_type": "markdown",
   "id": "2a25c847-2e2c-4df3-a03a-919a3cc018a3",
   "metadata": {},
   "source": [
    "#### while ile"
   ]
  },
  {
   "cell_type": "code",
   "execution_count": 7,
   "id": "371da667-0577-48df-9cf9-339fa661a750",
   "metadata": {},
   "outputs": [
    {
     "name": "stdin",
     "output_type": "stream",
     "text": [
      "Bir sayı girin:  13\n"
     ]
    },
    {
     "name": "stdout",
     "output_type": "stream",
     "text": [
      "Asal sayı\n"
     ]
    }
   ],
   "source": [
    "sayi = int(input(\"Bir sayı girin: \"))\n",
    "asal = True\n",
    "i = 2\n",
    "\n",
    "if sayi < 2:\n",
    "    asal = False\n",
    "else:\n",
    "    while i < sayi:\n",
    "        if sayi % i == 0:\n",
    "            asal = False\n",
    "            break\n",
    "        i += 1\n",
    "\n",
    "if asal:\n",
    "    print(\"Asal sayı\")\n",
    "else:\n",
    "    print(\"Asal değil\")\n"
   ]
  },
  {
   "cell_type": "markdown",
   "id": "a86cbc80-da06-4957-b3e3-81b769e90741",
   "metadata": {},
   "source": [
    "### 6. notlar=[45,85,75,50] içinde 75 değerinin indeksini yazdıran döngü"
   ]
  },
  {
   "cell_type": "code",
   "execution_count": 21,
   "id": "b4bf3e2e-c944-4aa3-9def-8ccae3ec5b87",
   "metadata": {},
   "outputs": [
    {
     "name": "stdout",
     "output_type": "stream",
     "text": [
      "75 sayısının indisi:  2\n"
     ]
    }
   ],
   "source": [
    "notlar=[45,85,75,50] \n",
    "\n",
    "for i in range(len(notlar)):\n",
    "    if notlar[i] == 75:\n",
    "        print(\"75 sayısının indisi: \" , i)\n",
    "        break"
   ]
  },
  {
   "cell_type": "markdown",
   "id": "6f808db4-ef70-4577-90c1-13d82316a93c",
   "metadata": {},
   "source": [
    "### 7. Girilen sayının faktöriyelini alalım (for ve while)"
   ]
  },
  {
   "cell_type": "markdown",
   "id": "d91e7cfd-8632-411f-9f34-8ae71acb943e",
   "metadata": {},
   "source": [
    "#### for ile"
   ]
  },
  {
   "cell_type": "code",
   "execution_count": 11,
   "id": "354d696e-0760-4591-8c0a-b8f9e8d0a4af",
   "metadata": {},
   "outputs": [
    {
     "name": "stdin",
     "output_type": "stream",
     "text": [
      "Faktöriyel alınacak sayı:  6\n"
     ]
    },
    {
     "name": "stdout",
     "output_type": "stream",
     "text": [
      "6 ! = 720\n"
     ]
    }
   ],
   "source": [
    "sayi = int(input(\"Faktöriyel alınacak sayı: \"))\n",
    "faktoriyel = 1\n",
    "\n",
    "for i in range(1, sayi + 1):\n",
    "    faktoriyel *= i\n",
    "\n",
    "print(sayi ,\"! =\" , faktoriyel)\n"
   ]
  },
  {
   "cell_type": "markdown",
   "id": "c72fcd7a-788e-4804-8a60-5529774ab60c",
   "metadata": {},
   "source": [
    "#### while ile"
   ]
  },
  {
   "cell_type": "code",
   "execution_count": 12,
   "id": "53a4a76a-5211-4d6a-869d-d685116dbf47",
   "metadata": {},
   "outputs": [
    {
     "name": "stdin",
     "output_type": "stream",
     "text": [
      "Faktöriyel alınacak sayı:  6\n"
     ]
    },
    {
     "name": "stdout",
     "output_type": "stream",
     "text": [
      "6 ! = 720\n"
     ]
    }
   ],
   "source": [
    "sayi = int(input(\"Faktöriyel alınacak sayı: \"))\n",
    "\n",
    "faktoriyel = 1\n",
    "i = 1\n",
    "while i <= sayi:\n",
    "    faktoriyel *= i\n",
    "    i += 1\n",
    "\n",
    "print(sayi ,\"! =\" , faktoriyel)\n"
   ]
  },
  {
   "cell_type": "markdown",
   "id": "ea331fae-cfdc-456f-ae04-3cace02cd645",
   "metadata": {},
   "source": [
    "### 8. Pozitif sayı girilene kadar soran for döngüsü"
   ]
  },
  {
   "cell_type": "code",
   "execution_count": null,
   "id": "2a2a8275-8154-4027-bc7e-79f4d4fd1ba2",
   "metadata": {},
   "outputs": [],
   "source": [
    "for _ in range(100):  # Sabit bir limit konuldu\n",
    "    sayi = int(input(\"Pozitif bir sayı girin: \"))\n",
    "    if sayi > 0:\n",
    "        print(\"Pozitif sayı:\", sayi)\n",
    "        break\n",
    "    else:\n",
    "        print(\"Negatif sayı girdiniz, tekrar deneyin.\")\n"
   ]
  },
  {
   "cell_type": "markdown",
   "id": "6568abf3-4896-4804-bc74-181e8c111af9",
   "metadata": {},
   "source": [
    "### 9. Fonksiyon ile asal sayı kontrolü (for ve while)"
   ]
  },
  {
   "cell_type": "markdown",
   "id": "347e2991-90ac-4d26-9e83-8c69652b868f",
   "metadata": {},
   "source": [
    "#### for ile"
   ]
  },
  {
   "cell_type": "code",
   "execution_count": 22,
   "id": "ed0817b8-4e8a-4613-ac64-a911cb9288b5",
   "metadata": {},
   "outputs": [
    {
     "name": "stdin",
     "output_type": "stream",
     "text": [
      "Sayı girin:  13\n"
     ]
    },
    {
     "name": "stdout",
     "output_type": "stream",
     "text": [
      "Asal mı?\n",
      "Evet, sayı asal.\n"
     ]
    }
   ],
   "source": [
    "def asal_mi(sayi):\n",
    "    print(\"Asal mı?\")\n",
    "    if sayi < 2:\n",
    "        print(\"Sayı asal değil.\")\n",
    "    for i in range(2, sayi):\n",
    "        if sayi % i == 0:\n",
    "            print(\"Sayı asal değil.\")\n",
    "    print(\"Evet, sayı asal.\")\n",
    "\n",
    "sayi = int(input(\"Sayı girin: \"))\n",
    "asal_mi(sayi)\n"
   ]
  },
  {
   "cell_type": "markdown",
   "id": "6d178d1e-be21-4c14-8fe5-8f63c363a297",
   "metadata": {},
   "source": [
    "#### while ile"
   ]
  },
  {
   "cell_type": "code",
   "execution_count": 26,
   "id": "9cab64dc-7972-4777-8ee9-e4ed60970ea4",
   "metadata": {},
   "outputs": [
    {
     "name": "stdin",
     "output_type": "stream",
     "text": [
      "Sayı girin:  15\n"
     ]
    },
    {
     "name": "stdout",
     "output_type": "stream",
     "text": [
      "Asal mı? False\n"
     ]
    }
   ],
   "source": [
    "def asal_mi(sayi):\n",
    "    if sayi < 2:\n",
    "        return False\n",
    "    i = 2\n",
    "    while i < sayi:\n",
    "        if sayi % i == 0:\n",
    "            return False\n",
    "        i += 1\n",
    "    return True\n",
    "\n",
    "sayi = int(input(\"Sayı girin: \"))\n",
    "print(\"Asal mı?\", asal_mi(sayi))\n"
   ]
  },
  {
   "cell_type": "markdown",
   "id": "1173faa6-0cd8-4b83-a361-b7d8f4a8bd14",
   "metadata": {},
   "source": [
    "### 10. Fonksiyon ile faktöriyel (for ve while)"
   ]
  },
  {
   "cell_type": "markdown",
   "id": "35673d3c-6622-4e90-bfc2-f3b501e4f53f",
   "metadata": {},
   "source": [
    "#### for ile"
   ]
  },
  {
   "cell_type": "code",
   "execution_count": 34,
   "id": "8fc22938-3548-4683-82e3-da9c2f636852",
   "metadata": {},
   "outputs": [
    {
     "name": "stdin",
     "output_type": "stream",
     "text": [
      "Faktöriyel alınacak sayı:  6\n"
     ]
    },
    {
     "name": "stdout",
     "output_type": "stream",
     "text": [
      "720\n"
     ]
    }
   ],
   "source": [
    "def faktoriyel(sayi):\n",
    "    sonuc = 1\n",
    "    for i in range(1, sayi + 1):\n",
    "        sonuc *= i\n",
    "    return sonuc\n",
    "\n",
    "print(faktoriyel(int(input(\"Faktöriyel alınacak sayı: \"))))\n"
   ]
  },
  {
   "cell_type": "markdown",
   "id": "176492f4-cd76-41f6-b7b7-85d1767cbacf",
   "metadata": {},
   "source": [
    "#### while ile"
   ]
  },
  {
   "cell_type": "code",
   "execution_count": 32,
   "id": "0f86a336-084e-4f4f-b4ac-aa1fc94c7f85",
   "metadata": {},
   "outputs": [
    {
     "name": "stdin",
     "output_type": "stream",
     "text": [
      "Faktöriyel alınacak sayı:  4\n"
     ]
    },
    {
     "name": "stdout",
     "output_type": "stream",
     "text": [
      "24\n"
     ]
    }
   ],
   "source": [
    "def faktoriyel(sayi):\n",
    "    sonuc = 1\n",
    "    i = 1\n",
    "    while i <= sayi:\n",
    "        sonuc *= i\n",
    "        i += 1\n",
    "    return sonuc\n",
    "\n",
    "print(faktoriyel(int(input(\"Faktöriyel alınacak sayı: \"))))\n"
   ]
  },
  {
   "cell_type": "code",
   "execution_count": null,
   "id": "1eb73889-7a17-4d72-b96d-63dc6944faba",
   "metadata": {},
   "outputs": [],
   "source": []
  }
 ],
 "metadata": {
  "kernelspec": {
   "display_name": "Python 3 (ipykernel)",
   "language": "python",
   "name": "python3"
  },
  "language_info": {
   "codemirror_mode": {
    "name": "ipython",
    "version": 3
   },
   "file_extension": ".py",
   "mimetype": "text/x-python",
   "name": "python",
   "nbconvert_exporter": "python",
   "pygments_lexer": "ipython3",
   "version": "3.11.7"
  }
 },
 "nbformat": 4,
 "nbformat_minor": 5
}
